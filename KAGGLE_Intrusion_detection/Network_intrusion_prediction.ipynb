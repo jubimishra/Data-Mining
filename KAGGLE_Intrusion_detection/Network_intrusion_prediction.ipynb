{
 "cells": [
  {
   "cell_type": "code",
   "execution_count": 1,
   "metadata": {
    "collapsed": true
   },
   "outputs": [],
   "source": [
    "import numpy as np\n",
    "import pandas as pd\n",
    "from sklearn import cross_validation\n",
    "from sklearn.preprocessing import OneHotEncoder, LabelEncoder\n",
    "from sklearn.feature_extraction.text import TfidfVectorizer\n",
    "from sklearn.preprocessing import StandardScaler\n",
    "from sklearn import svm, tree\n",
    "from sklearn.naive_bayes import GaussianNB,MultinomialNB,BernoulliNB \n",
    "from sklearn.neighbors import KNeighborsClassifier\n",
    "from sklearn.svm import SVC,LinearSVC\n",
    "from sklearn.tree import DecisionTreeClassifier\n",
    "from sklearn.ensemble import RandomForestClassifier, AdaBoostClassifier\n",
    "from sklearn import linear_model\n",
    "from sklearn.linear_model import SGDClassifier, RidgeCV, Lasso\n",
    "from sklearn.multiclass import OneVsRestClassifier\n",
    "from sklearn.metrics import accuracy_score\n",
    "import statsmodels.api as sm\n"
   ]
  },
  {
   "cell_type": "markdown",
   "metadata": {
    "collapsed": false
   },
   "source": [
    "##Reading in the test and train files of network data"
   ]
  },
  {
   "cell_type": "code",
   "execution_count": 2,
   "metadata": {
    "collapsed": false
   },
   "outputs": [],
   "source": [
    "train = np.loadtxt('train_id.csv',dtype=str,delimiter=',')\n",
    "test = np.loadtxt('test_id_unlabeled.csv',dtype=str,delimiter=',')\n"
   ]
  },
  {
   "cell_type": "markdown",
   "metadata": {},
   "source": [
    "###Checking the number of columns in train and test"
   ]
  },
  {
   "cell_type": "code",
   "execution_count": 3,
   "metadata": {
    "collapsed": false
   },
   "outputs": [
    {
     "name": "stdout",
     "output_type": "stream",
     "text": [
      "43\n",
      "42\n"
     ]
    }
   ],
   "source": [
    "print len(train[0])\n",
    "print len(test[0])"
   ]
  },
  {
   "cell_type": "markdown",
   "metadata": {},
   "source": [
    "###Encoding non-numeric columns"
   ]
  },
  {
   "cell_type": "code",
   "execution_count": 4,
   "metadata": {
    "collapsed": false
   },
   "outputs": [],
   "source": [
    "le = LabelEncoder()\n",
    "train[:,2] = le.fit_transform(train[:,2])\n",
    "train[:,3] = le.fit_transform(train[:,3])\n",
    "train[:,4] = le.fit_transform(train[:,4])\n",
    "\n",
    "test[:,2] = le.fit_transform(test[:,2])\n",
    "test[:,3] = le.fit_transform(test[:,3])\n",
    "test[:,4] = le.fit_transform(test[:,4])\n"
   ]
  },
  {
   "cell_type": "markdown",
   "metadata": {},
   "source": [
    "###Converting the labels into numbers"
   ]
  },
  {
   "cell_type": "code",
   "execution_count": 5,
   "metadata": {
    "collapsed": false
   },
   "outputs": [
    {
     "name": "stdout",
     "output_type": "stream",
     "text": [
      "['back', 'ipsweep', 'neptune', 'normal', 'portsweep', 'satan', 'smurf', 'teardrop', 'warezclient']\n"
     ]
    }
   ],
   "source": [
    "le.fit(train[:,42])\n",
    "print list(le.classes_)\n",
    "train[:,42]=le.transform(train[:,42])"
   ]
  },
  {
   "cell_type": "code",
   "execution_count": 6,
   "metadata": {
    "collapsed": false
   },
   "outputs": [
    {
     "data": {
      "text/plain": [
       "array([[  1.00000000e+00,   0.00000000e+00,   0.00000000e+00, ...,\n",
       "          0.00000000e+00,   0.00000000e+00,   0.00000000e+00],\n",
       "       [  2.00000000e+00,   0.00000000e+00,   1.00000000e+00, ...,\n",
       "          1.00000000e+00,   0.00000000e+00,   0.00000000e+00],\n",
       "       [  3.00000000e+00,   0.00000000e+00,   1.00000000e+00, ...,\n",
       "          1.00000000e+00,   0.00000000e+00,   0.00000000e+00],\n",
       "       ..., \n",
       "       [  2.86086000e+05,   0.00000000e+00,   1.00000000e+00, ...,\n",
       "          0.00000000e+00,   0.00000000e+00,   0.00000000e+00],\n",
       "       [  2.86087000e+05,   0.00000000e+00,   0.00000000e+00, ...,\n",
       "          0.00000000e+00,   0.00000000e+00,   0.00000000e+00],\n",
       "       [  2.86088000e+05,   0.00000000e+00,   0.00000000e+00, ...,\n",
       "          0.00000000e+00,   0.00000000e+00,   0.00000000e+00]])"
      ]
     },
     "execution_count": 6,
     "metadata": {},
     "output_type": "execute_result"
    }
   ],
   "source": [
    "train =  train.astype(float)\n",
    "test = test.astype(float)\n",
    "train[:,0:43]\n",
    "test[:,0:]"
   ]
  },
  {
   "cell_type": "markdown",
   "metadata": {},
   "source": [
    "###Standardizing the features"
   ]
  },
  {
   "cell_type": "code",
   "execution_count": 7,
   "metadata": {
    "collapsed": true
   },
   "outputs": [],
   "source": [
    "from sklearn.preprocessing import StandardScaler\n",
    "scaler = StandardScaler()\n",
    "x_train = scaler.fit_transform(train[:,1:41])\n",
    "y_train = train[:,42]\n",
    "x_test = scaler.fit_transform(test[:,1:41])\n"
   ]
  },
  {
   "cell_type": "markdown",
   "metadata": {},
   "source": [
    "###Checking different classifiers to find the best performing classifier"
   ]
  },
  {
   "cell_type": "code",
   "execution_count": 8,
   "metadata": {
    "collapsed": false
   },
   "outputs": [
    {
     "name": "stdout",
     "output_type": "stream",
     "text": [
      "[ 0.99748693  0.99760833  0.99764887  0.99724339  0.99687855  0.99744608\n",
      "  0.9975676   0.99760804  0.99724306  0.99732382]\n",
      "Accuracy: 0.9974055 (+/- 0.0004530)\n",
      "[ 0.99732479  0.99675706  0.99768941  0.99777039  0.99781093  0.99744608\n",
      "  0.99728382  0.99712154  0.9972836   0.99744546]\n",
      "Accuracy: 0.9973933 (+/- 0.0006057)\n",
      "[ 0.99700053  0.99748672  0.99700028  0.9970407   0.99712178  0.99752716\n",
      "  0.99700004  0.99764859  0.99712143  0.99708053]\n",
      "Accuracy: 0.9972028 (+/- 0.0004741)\n",
      "[ 0.99708159  0.99760833  0.99716243  0.99695962  0.99691909  0.99712178\n",
      "  0.99744598  0.99744588  0.99716197  0.99732382]\n",
      "Accuracy: 0.9972230 (+/- 0.0004277)\n",
      "[ 0.99760853  0.99805424  0.99817585  0.99805416  0.99829739  0.99821631\n",
      "  0.99833786  0.9985405   0.9982161   0.99825643]\n",
      "Accuracy: 0.9981757 (+/- 0.0004627)\n",
      "[ 0.99825706  0.99793263  0.99772994  0.99805416  0.99793254  0.99797308\n",
      "  0.99383792  0.99837833  0.99797284  0.99829698]\n",
      "Accuracy: 0.9976365 (+/- 0.0025601)\n",
      "[ 0.99708159  0.99813531  0.99809477  0.99724339  0.99768931  0.99793254\n",
      "  0.99821624  0.9985405   0.99777012  0.99683724]\n",
      "Accuracy: 0.9977541 (+/- 0.0010360)\n",
      "[ 0.99764906  0.99736511  0.9980137   0.99740555  0.99728393  0.99716232\n",
      "  0.99781084  0.99764859  0.99740523  0.99716163]\n",
      "Accuracy: 0.9974906 (+/- 0.0005349)\n",
      "[ 0.99756799  0.99764887  0.99772994  0.99728393  0.99635155  0.99748662\n",
      "  0.99748652  0.99793238  0.99732414  0.99679669]\n",
      "Accuracy: 0.9973609 (+/- 0.0008865)\n",
      "[ 0.99744639  0.99695975  0.99752726  0.99752716  0.99732447  0.99760824\n",
      "  0.99732436  0.99744588  0.99740523  0.9977293 ]\n",
      "Accuracy: 0.9974298 (+/- 0.0003923)\n"
     ]
    }
   ],
   "source": [
    "X_train, X_test,Y_train, Y_test= cross_validation.train_test_split(x_train,y_train,test_size=0.5)\n",
    "\n",
    "# clfs=[DecisionTreeClassifier(max_depth=3),\n",
    "#       RandomForestClassifier(max_depth=3, n_estimators=10, max_features=11),\n",
    "#       RandomForestClassifier(max_depth=3, n_estimators=10, max_features=13),\n",
    "clfs=[linear_model.SGDClassifier(),\n",
    "      linear_model.SGDClassifier(loss=\"hinge\", penalty=\"l2\"),\n",
    "      linear_model.SGDClassifier(loss=\"modified_huber\", penalty=\"l2\"),\n",
    "      linear_model.SGDClassifier(loss=\"log\", penalty=\"l2\"),\n",
    "      linear_model.SGDClassifier(loss=\"hinge\", penalty=\"l1\"),\n",
    "      linear_model.SGDClassifier(loss=\"modified_huber\", penalty=\"l1\"),\n",
    "      linear_model.SGDClassifier(loss=\"log\", penalty=\"l1\"),\n",
    "      linear_model.SGDClassifier(loss=\"hinge\", penalty=\"elasticnet\"),\n",
    "      linear_model.SGDClassifier(loss=\"modified_huber\", penalty=\"elasticnet\"),\n",
    "      linear_model.SGDClassifier(loss=\"log\", penalty=\"elasticnet\")]\n",
    "\n",
    "for clf in clfs:\n",
    "    scores = cross_validation.cross_val_score(clf, X_train, Y_train, cv=10)\n",
    "    print scores\n",
    "    print(\"Accuracy: %0.7f (+/- %0.7f)\" % (scores.mean(), scores.std() * 2))\n"
   ]
  },
  {
   "cell_type": "code",
   "execution_count": null,
   "metadata": {
    "collapsed": true
   },
   "outputs": [],
   "source": [
    "### Running the best model on the training data"
   ]
  },
  {
   "cell_type": "code",
   "execution_count": 30,
   "metadata": {
    "collapsed": false
   },
   "outputs": [],
   "source": [
    "# clf = linear_model.SGDClassifier()\n",
    "# clf = RandomForestClassifier(max_depth=3, n_estimators=10, max_features=17)\n",
    "clf = linear_model.SGDClassifier(loss=\"hinge\", penalty=\"l1\")\n",
    "clf.fit(x_train, y_train)\n",
    "y_pred = clf.predict(x_test)\n",
    "\n",
    "# glm_gauss = sm.GLM(y_train, x_train, family=sm.families.Gaussian())\n",
    "# res = glm_gauss.fit()\n",
    "# print(res.summary())"
   ]
  },
  {
   "cell_type": "code",
   "execution_count": 32,
   "metadata": {
    "collapsed": false
   },
   "outputs": [
    {
     "data": {
      "text/plain": [
       "286088"
      ]
     },
     "execution_count": 32,
     "metadata": {},
     "output_type": "execute_result"
    }
   ],
   "source": [
    "len(y_pred)"
   ]
  },
  {
   "cell_type": "code",
   "execution_count": 33,
   "metadata": {
    "collapsed": false
   },
   "outputs": [
    {
     "data": {
      "text/plain": [
       "array([6, 2, 2, ..., 3, 6, 6])"
      ]
     },
     "execution_count": 33,
     "metadata": {},
     "output_type": "execute_result"
    }
   ],
   "source": [
    "y_pred.astype(int)"
   ]
  },
  {
   "cell_type": "code",
   "execution_count": 34,
   "metadata": {
    "collapsed": false
   },
   "outputs": [],
   "source": [
    "result = list(le.inverse_transform(y_pred.astype(int)))"
   ]
  },
  {
   "cell_type": "code",
   "execution_count": 35,
   "metadata": {
    "collapsed": false
   },
   "outputs": [],
   "source": [
    "# out=open(\"output.csv\", \"wb\")\n",
    "j=1\n",
    "results=[]\n",
    "for i in range(0,286088):\n",
    "    results.append([j,result[i]])\n",
    "    j=j+1\n",
    "  "
   ]
  },
  {
   "cell_type": "code",
   "execution_count": 36,
   "metadata": {
    "collapsed": false
   },
   "outputs": [],
   "source": [
    "import csv\n",
    "out=open(\"output_sgdl1h.csv\", \"wb\")\n",
    "header = [\"ID\", \"Class\"]\n",
    "\n",
    "\n",
    "# for i in result:\n",
    "#     out.writerow(i) \n",
    "    \n",
    "a = csv.writer(out, delimiter=',')\n",
    "a.writerow(header)\n",
    "a.writerows(results)\n",
    "out.close()"
   ]
  },
  {
   "cell_type": "code",
   "execution_count": null,
   "metadata": {
    "collapsed": false
   },
   "outputs": [],
   "source": []
  },
  {
   "cell_type": "code",
   "execution_count": null,
   "metadata": {
    "collapsed": true
   },
   "outputs": [],
   "source": []
  }
 ],
 "metadata": {
  "kernelspec": {
   "display_name": "Python 2",
   "language": "python",
   "name": "python2"
  },
  "language_info": {
   "codemirror_mode": {
    "name": "ipython",
    "version": 2
   },
   "file_extension": ".py",
   "mimetype": "text/x-python",
   "name": "python",
   "nbconvert_exporter": "python",
   "pygments_lexer": "ipython2",
   "version": "2.7.10"
  }
 },
 "nbformat": 4,
 "nbformat_minor": 0
}
